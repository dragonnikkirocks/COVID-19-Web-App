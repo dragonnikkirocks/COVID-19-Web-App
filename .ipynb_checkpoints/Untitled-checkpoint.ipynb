{
 "cells": [
  {
   "cell_type": "code",
   "execution_count": 1,
   "metadata": {},
   "outputs": [],
   "source": [
    "import pandas as pd"
   ]
  },
  {
   "cell_type": "code",
   "execution_count": 25,
   "metadata": {},
   "outputs": [],
   "source": [
    "df_stadt = pd.read_json ('data193.json',orient='split')\n"
   ]
  },
  {
   "cell_type": "code",
   "execution_count": 26,
   "metadata": {},
   "outputs": [
    {
     "data": {
      "text/html": [
       "<div>\n",
       "<style scoped>\n",
       "    .dataframe tbody tr th:only-of-type {\n",
       "        vertical-align: middle;\n",
       "    }\n",
       "\n",
       "    .dataframe tbody tr th {\n",
       "        vertical-align: top;\n",
       "    }\n",
       "\n",
       "    .dataframe thead th {\n",
       "        text-align: right;\n",
       "    }\n",
       "</style>\n",
       "<table border=\"1\" class=\"dataframe\">\n",
       "  <thead>\n",
       "    <tr style=\"text-align: right;\">\n",
       "      <th></th>\n",
       "      <th>Cases</th>\n",
       "      <th>place</th>\n",
       "      <th>deaths</th>\n",
       "      <th>death_rate</th>\n",
       "      <th>cases_7_bl</th>\n",
       "      <th>last_update</th>\n",
       "      <th>today</th>\n",
       "    </tr>\n",
       "  </thead>\n",
       "  <tbody>\n",
       "    <tr>\n",
       "      <th>0</th>\n",
       "      <td>10569</td>\n",
       "      <td>Karlsruhe Stadtkreis</td>\n",
       "      <td>198</td>\n",
       "      <td>1.873403</td>\n",
       "      <td>8920</td>\n",
       "      <td>23.05.2021</td>\n",
       "      <td>23.05.2021</td>\n",
       "    </tr>\n",
       "  </tbody>\n",
       "</table>\n",
       "</div>"
      ],
      "text/plain": [
       "   Cases                 place  deaths  death_rate  cases_7_bl last_update  \\\n",
       "0  10569  Karlsruhe Stadtkreis     198    1.873403        8920  23.05.2021   \n",
       "\n",
       "        today  \n",
       "0  23.05.2021  "
      ]
     },
     "execution_count": 26,
     "metadata": {},
     "output_type": "execute_result"
    }
   ],
   "source": [
    "df_stadt"
   ]
  },
  {
   "cell_type": "code",
   "execution_count": 38,
   "metadata": {},
   "outputs": [
    {
     "data": {
      "text/plain": [
       "'23.05.2021'"
      ]
     },
     "execution_count": 38,
     "metadata": {},
     "output_type": "execute_result"
    }
   ],
   "source": [
    "str(df_stadt['last_update'].tolist()[0])\n"
   ]
  },
  {
   "cell_type": "code",
   "execution_count": 45,
   "metadata": {},
   "outputs": [
    {
     "data": {
      "text/html": [
       "<div>\n",
       "<style scoped>\n",
       "    .dataframe tbody tr th:only-of-type {\n",
       "        vertical-align: middle;\n",
       "    }\n",
       "\n",
       "    .dataframe tbody tr th {\n",
       "        vertical-align: top;\n",
       "    }\n",
       "\n",
       "    .dataframe thead th {\n",
       "        text-align: right;\n",
       "    }\n",
       "</style>\n",
       "<table border=\"1\" class=\"dataframe\">\n",
       "  <thead>\n",
       "    <tr style=\"text-align: right;\">\n",
       "      <th></th>\n",
       "      <th>Cases</th>\n",
       "      <th>place</th>\n",
       "      <th>deaths</th>\n",
       "      <th>death_rate</th>\n",
       "      <th>cases_7_bl</th>\n",
       "      <th>last_update</th>\n",
       "      <th>today</th>\n",
       "    </tr>\n",
       "  </thead>\n",
       "  <tbody>\n",
       "    <tr>\n",
       "      <th>0</th>\n",
       "      <td>10569</td>\n",
       "      <td>Karlsruhe Stadtkreis</td>\n",
       "      <td>198</td>\n",
       "      <td>1.873403</td>\n",
       "      <td>8920</td>\n",
       "      <td>23.05.2021</td>\n",
       "      <td>23.05.2021</td>\n",
       "    </tr>\n",
       "    <tr>\n",
       "      <th>1</th>\n",
       "      <td>102</td>\n",
       "      <td>KAS</td>\n",
       "      <td>156</td>\n",
       "      <td>10.560000</td>\n",
       "      <td>566</td>\n",
       "      <td>25.214.013</td>\n",
       "      <td>125.25.21</td>\n",
       "    </tr>\n",
       "  </tbody>\n",
       "</table>\n",
       "</div>"
      ],
      "text/plain": [
       "   Cases                 place  deaths  death_rate  cases_7_bl last_update  \\\n",
       "0  10569  Karlsruhe Stadtkreis     198    1.873403        8920  23.05.2021   \n",
       "1    102                   KAS     156   10.560000         566  25.214.013   \n",
       "\n",
       "        today  \n",
       "0  23.05.2021  \n",
       "1   125.25.21  "
      ]
     },
     "execution_count": 45,
     "metadata": {},
     "output_type": "execute_result"
    }
   ],
   "source": [
    "df_stadt.append({'Cases' : 102,\n",
    "                    'place' : 'KAS',\n",
    "                      'deaths': 156,\n",
    "                        'death_rate':10.56,\n",
    "                         'cases_7_bl':566,\n",
    "                          'last_update':'25.214.013',\n",
    "                           'today':'125.25.21'} , \n",
    "                    ignore_index=True)\n"
   ]
  },
  {
   "cell_type": "code",
   "execution_count": 46,
   "metadata": {},
   "outputs": [
    {
     "data": {
      "text/html": [
       "<div>\n",
       "<style scoped>\n",
       "    .dataframe tbody tr th:only-of-type {\n",
       "        vertical-align: middle;\n",
       "    }\n",
       "\n",
       "    .dataframe tbody tr th {\n",
       "        vertical-align: top;\n",
       "    }\n",
       "\n",
       "    .dataframe thead th {\n",
       "        text-align: right;\n",
       "    }\n",
       "</style>\n",
       "<table border=\"1\" class=\"dataframe\">\n",
       "  <thead>\n",
       "    <tr style=\"text-align: right;\">\n",
       "      <th></th>\n",
       "      <th>Cases</th>\n",
       "      <th>place</th>\n",
       "      <th>deaths</th>\n",
       "      <th>death_rate</th>\n",
       "      <th>cases_7_bl</th>\n",
       "      <th>last_update</th>\n",
       "      <th>today</th>\n",
       "    </tr>\n",
       "  </thead>\n",
       "  <tbody>\n",
       "    <tr>\n",
       "      <th>0</th>\n",
       "      <td>10569</td>\n",
       "      <td>Karlsruhe Stadtkreis</td>\n",
       "      <td>198</td>\n",
       "      <td>1.873403</td>\n",
       "      <td>8920</td>\n",
       "      <td>23.05.2021</td>\n",
       "      <td>23.05.2021</td>\n",
       "    </tr>\n",
       "    <tr>\n",
       "      <th>1</th>\n",
       "      <td>102</td>\n",
       "      <td>jdad</td>\n",
       "      <td>156</td>\n",
       "      <td>10.560000</td>\n",
       "      <td>566</td>\n",
       "      <td>25.214.013</td>\n",
       "      <td>125.25.21</td>\n",
       "    </tr>\n",
       "  </tbody>\n",
       "</table>\n",
       "</div>"
      ],
      "text/plain": [
       "   Cases                 place  deaths  death_rate  cases_7_bl last_update  \\\n",
       "0  10569  Karlsruhe Stadtkreis     198    1.873403        8920  23.05.2021   \n",
       "1    102                  jdad     156   10.560000         566  25.214.013   \n",
       "\n",
       "        today  \n",
       "0  23.05.2021  \n",
       "1   125.25.21  "
      ]
     },
     "execution_count": 46,
     "metadata": {},
     "output_type": "execute_result"
    }
   ],
   "source": [
    "df_stadt.append({'Cases' : 102,\n",
    "                    'place' : 'jdad',\n",
    "                      'deaths': 156,\n",
    "                        'death_rate':10.56,\n",
    "                         'cases_7_bl':566,\n",
    "                          'last_update':'25.214.013',\n",
    "                           'today':'125.25.21'} , \n",
    "                    ignore_index=True)"
   ]
  },
  {
   "cell_type": "code",
   "execution_count": 39,
   "metadata": {},
   "outputs": [
    {
     "data": {
      "text/html": [
       "<div>\n",
       "<style scoped>\n",
       "    .dataframe tbody tr th:only-of-type {\n",
       "        vertical-align: middle;\n",
       "    }\n",
       "\n",
       "    .dataframe tbody tr th {\n",
       "        vertical-align: top;\n",
       "    }\n",
       "\n",
       "    .dataframe thead th {\n",
       "        text-align: right;\n",
       "    }\n",
       "</style>\n",
       "<table border=\"1\" class=\"dataframe\">\n",
       "  <thead>\n",
       "    <tr style=\"text-align: right;\">\n",
       "      <th></th>\n",
       "      <th>Cases</th>\n",
       "      <th>place</th>\n",
       "      <th>deaths</th>\n",
       "      <th>death_rate</th>\n",
       "      <th>cases_7_bl</th>\n",
       "      <th>last_update</th>\n",
       "      <th>today</th>\n",
       "    </tr>\n",
       "  </thead>\n",
       "  <tbody>\n",
       "    <tr>\n",
       "      <th>0</th>\n",
       "      <td>10569</td>\n",
       "      <td>Karlsruhe Stadtkreis</td>\n",
       "      <td>198</td>\n",
       "      <td>1.873403</td>\n",
       "      <td>8920</td>\n",
       "      <td>23.05.2021</td>\n",
       "      <td>23.05.2021</td>\n",
       "    </tr>\n",
       "  </tbody>\n",
       "</table>\n",
       "</div>"
      ],
      "text/plain": [
       "   Cases                 place  deaths  death_rate  cases_7_bl last_update  \\\n",
       "0  10569  Karlsruhe Stadtkreis     198    1.873403        8920  23.05.2021   \n",
       "\n",
       "        today  \n",
       "0  23.05.2021  "
      ]
     },
     "execution_count": 39,
     "metadata": {},
     "output_type": "execute_result"
    }
   ],
   "source": [
    "df_stadt"
   ]
  },
  {
   "cell_type": "code",
   "execution_count": null,
   "metadata": {},
   "outputs": [],
   "source": []
  }
 ],
 "metadata": {
  "kernelspec": {
   "display_name": "Python 3",
   "language": "python",
   "name": "python3"
  },
  "language_info": {
   "codemirror_mode": {
    "name": "ipython",
    "version": 3
   },
   "file_extension": ".py",
   "mimetype": "text/x-python",
   "name": "python",
   "nbconvert_exporter": "python",
   "pygments_lexer": "ipython3",
   "version": "3.9.0"
  }
 },
 "nbformat": 4,
 "nbformat_minor": 4
}
